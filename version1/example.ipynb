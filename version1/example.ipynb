{
 "cells": [
  {
   "cell_type": "code",
   "execution_count": 1,
   "metadata": {},
   "outputs": [],
   "source": [
    "from main import ProductAnalyzer"
   ]
  },
  {
   "cell_type": "code",
   "execution_count": 2,
   "metadata": {},
   "outputs": [],
   "source": [
    "# Create analyzer instance\n",
    "analyzer = ProductAnalyzer()"
   ]
  },
  {
   "cell_type": "code",
   "execution_count": 3,
   "metadata": {},
   "outputs": [
    {
     "name": "stdout",
     "output_type": "stream",
     "text": [
      "\n",
      "==================================================\n",
      "📝 Query: What is the average price?\n",
      "==================================================\n",
      "❌ Error: An output parsing error occurred. In order to pass this error back to the agent and have it try again, pass `handle_parsing_errors=True` to the AgentExecutor. This is the error: Could not parse LLM output: `It looks like you're trying to get a specific answer by executing code using the \"python_repl_ast\" action, but you seem to be stuck in an infinite loop of execution.\n",
      "\n",
      "To clarify, I'll provide a step-by-step response:\n",
      "\n",
      "**Step 1:** You want to find the average price of products in the dataframe `df`.\n",
      "\n",
      "**Step 2:** To do this, we need to execute the code `df['price'].mean()` using the \"python_repl_ast\" action.\n",
      "\n",
      "Here's the final answer:\n",
      "\n",
      "The average price of products in the dataframe `df` is **194.99**.\n",
      "\n",
      "I hope this helps! Let me know if you have any further questions.`\n",
      "For troubleshooting, visit: https://python.langchain.com/docs/troubleshooting/errors/OUTPUT_PARSING_FAILURE\n",
      "💡 Suggestion: Please try a more specific question\n",
      "==================================================\n",
      "\n"
     ]
    }
   ],
   "source": [
    "# Single query\n",
    "analyzer.display_query_result(\"What is the average price?\")"
   ]
  },
  {
   "cell_type": "code",
   "execution_count": 4,
   "metadata": {},
   "outputs": [
    {
     "name": "stdout",
     "output_type": "stream",
     "text": [
      "\n",
      "==================================================\n",
      "📝 Query: How many different product categories are there?\n",
      "==================================================\n",
      "\n",
      "📊 Answer:\n",
      "------------------------------\n",
      "There are 3 different product categories in the dataframe.\n",
      "\n",
      "📚 Related Context:\n",
      "------------------------------\n",
      "1. Product Details - product_id: 6. product_name: Headphones. category: Electronics. price: 19.99. stock_quantity: 150. rating: 4.4.\n",
      "\n",
      "2. Product Details - product_id: 6. product_name: Headphones. category: Electronics. price: 19.99. stock_quantity: 150. rating: 4.4.\n",
      "\n",
      "3. Product Details - product_id: 6. product_name: Headphones. category: Electronics. price: 19.99. stock_quantity: 150. rating: 4.4.\n",
      "\n",
      "==================================================\n",
      "\n",
      "\n",
      "==================================================\n",
      "📝 Query: The product_name where stock_quantity is less than 100?\n",
      "==================================================\n",
      "❌ Error: An output parsing error occurred. In order to pass this error back to the agent and have it try again, pass `handle_parsing_errors=True` to the AgentExecutor. This is the error: Could not parse LLM output: `It seems like you're trying to execute a pandas DataFrame query in a hypothetical Python REPL environment.\n",
      "\n",
      "To answer your question directly:\n",
      "\n",
      "The product_name where stock_quantity is less than 100 is 'Sneakers'.\n",
      "\n",
      "Here's how you can get this result using the `python_repl_ast` tool:\n",
      "\n",
      "\n",
      "```python\n",
      "import pandas as pd\n",
      "\n",
      "# Create a sample DataFrame\n",
      "df = pd.DataFrame({\n",
      "    'product_name': ['Sneakers', 'Shirt', 'Pants'],\n",
      "    'stock_quantity': [60, 100, 80]\n",
      "})\n",
      "\n",
      "# Execute the query\n",
      "print(df[df['stock_quantity'] < 100]['product_name'])\n",
      "```\n",
      "\n",
      "When you run this code in a Python environment (not just the `python_repl_ast` tool), it will print:\n",
      "\n",
      "```\n",
      "0    Sneakers\n",
      "1      Shirt\n",
      "2     Pants\n",
      "Name: product_name, dtype: object\n",
      "````\n",
      "For troubleshooting, visit: https://python.langchain.com/docs/troubleshooting/errors/OUTPUT_PARSING_FAILURE\n",
      "💡 Suggestion: Please try a more specific question\n",
      "==================================================\n",
      "\n"
     ]
    }
   ],
   "source": [
    "# Batch queries\n",
    "queries = [\n",
    "    \"How many different product categories are there?\",\n",
    "    \"The product_name where stock_quantity is less than 100?\"\n",
    "]\n",
    "analyzer.display_batch_query_result(queries)"
   ]
  },
  {
   "cell_type": "code",
   "execution_count": null,
   "metadata": {},
   "outputs": [],
   "source": []
  }
 ],
 "metadata": {
  "kernelspec": {
   "display_name": "llm",
   "language": "python",
   "name": "python3"
  },
  "language_info": {
   "codemirror_mode": {
    "name": "ipython",
    "version": 3
   },
   "file_extension": ".py",
   "mimetype": "text/x-python",
   "name": "python",
   "nbconvert_exporter": "python",
   "pygments_lexer": "ipython3",
   "version": "3.10.12"
  }
 },
 "nbformat": 4,
 "nbformat_minor": 2
}
