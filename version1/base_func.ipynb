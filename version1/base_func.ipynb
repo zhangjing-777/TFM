{
 "cells": [
  {
   "cell_type": "code",
   "execution_count": 1,
   "metadata": {},
   "outputs": [],
   "source": [
    "import time\n",
    "import pandas as pd\n",
    "from langchain_ollama import OllamaLLM\n",
    "from langchain_ollama import OllamaEmbeddings\n",
    "from langchain_experimental.agents import create_pandas_dataframe_agent\n",
    "from langchain.text_splitter import RecursiveCharacterTextSplitter\n",
    "from langchain_community.vectorstores import Chroma\n",
    "from langchain.chains import RetrievalQA\n",
    "from langchain.prompts import PromptTemplate"
   ]
  },
  {
   "cell_type": "code",
   "execution_count": 2,
   "metadata": {},
   "outputs": [],
   "source": [
    "# 1. Data Preparation\n",
    "df = pd.read_csv(\"product_data.csv\")"
   ]
  },
  {
   "cell_type": "code",
   "execution_count": 3,
   "metadata": {},
   "outputs": [],
   "source": [
    "# 2. Initialize Components\n",
    "llm = OllamaLLM(model=\"llama3.1\", temperature=0.75)\n",
    "embeddings = OllamaEmbeddings(\n",
    "    model=\"bge-m3\",\n",
    "    base_url=\"http://localhost:11434\"\n",
    ")"
   ]
  },
  {
   "cell_type": "code",
   "execution_count": 4,
   "metadata": {},
   "outputs": [],
   "source": [
    "# 3. Create Detailed Text Description\n",
    "def create_detailed_text(df):\n",
    "    texts = []\n",
    "    for index, row in df.iterrows():\n",
    "        text = f\"Product Details - \"\n",
    "        for col in df.columns:\n",
    "            text += f\"{col}: {row[col]}. \"\n",
    "        texts.append(text)\n",
    "    return texts"
   ]
  },
  {
   "cell_type": "code",
   "execution_count": 5,
   "metadata": {},
   "outputs": [],
   "source": [
    "# 4. Prepare Documents\n",
    "texts = create_detailed_text(df)\n",
    "text_splitter = RecursiveCharacterTextSplitter(\n",
    "    chunk_size=1000,\n",
    "    chunk_overlap=100,\n",
    ")\n",
    "splits = text_splitter.create_documents(texts)"
   ]
  },
  {
   "cell_type": "code",
   "execution_count": 6,
   "metadata": {},
   "outputs": [],
   "source": [
    "# 5. Create Vector Store\n",
    "vectorstore = Chroma.from_documents(\n",
    "    documents=splits,\n",
    "    embedding=embeddings,\n",
    "    persist_directory=\"./chroma_db\"\n",
    ")"
   ]
  },
  {
   "cell_type": "code",
   "execution_count": 7,
   "metadata": {},
   "outputs": [],
   "source": [
    "# 6. Create Prompt Template\n",
    "template = \"\"\"\n",
    "Answer the question based on the following information:\n",
    "\n",
    "Context Information:\n",
    "{context}\n",
    "\n",
    "Question: {question}\n",
    "\n",
    "If there is no relevant information in the data, please clearly state \"No information about this product in the database\".\n",
    "Please answer based on actual data, do not guess or make up information.\n",
    "\n",
    "Answer:\n",
    "\"\"\"\n",
    "\n",
    "PROMPT = PromptTemplate(\n",
    "    template=template,\n",
    "    input_variables=[\"context\", \"question\"]  \n",
    ")"
   ]
  },
  {
   "cell_type": "code",
   "execution_count": 8,
   "metadata": {},
   "outputs": [],
   "source": [
    "# 7. Setup QA Chain\n",
    "qa_chain = RetrievalQA.from_chain_type(\n",
    "    llm=llm,\n",
    "    chain_type=\"stuff\",\n",
    "    retriever=vectorstore.as_retriever(search_kwargs={\"k\": 3}),\n",
    "    return_source_documents=True,\n",
    "    chain_type_kwargs={\n",
    "        \"prompt\": PROMPT\n",
    "    }\n",
    ")"
   ]
  },
  {
   "cell_type": "code",
   "execution_count": 15,
   "metadata": {},
   "outputs": [],
   "source": [
    "# 8. Create Agent\n",
    "agent = create_pandas_dataframe_agent(\n",
    "    llm,\n",
    "    df,\n",
    "    verbose=False,\n",
    "    agent_type=\"zero-shot-react-description\",  \n",
    "    max_iterations=20,\n",
    "    allow_dangerous_code=True\n",
    ")"
   ]
  },
  {
   "cell_type": "code",
   "execution_count": 10,
   "metadata": {},
   "outputs": [],
   "source": [
    "\n",
    "# 9. Create Universal Query Function\n",
    "def query_data(query_text):\n",
    "    \"\"\"\n",
    "    Universal data query function\n",
    "    Args:\n",
    "        query_text: User's query question\n",
    "    Returns:\n",
    "        Query results and related context\n",
    "    \"\"\"\n",
    "    try:\n",
    "        # Use RAG system to get context\n",
    "        context = qa_chain.invoke({\n",
    "            \"query\": query_text\n",
    "        })\n",
    "            \n",
    "        # Build enhanced prompt\n",
    "        enhanced_prompt = f\"\"\"\n",
    "        Answer the question based on the retrieved relevant information: {context}\n",
    "        Please provide a concise answer, if calculations or analysis are needed, please base them on the data using pandas methods.\n",
    "        \"\"\"\n",
    "        \n",
    "        # Use agent to process query\n",
    "        response = agent.invoke(enhanced_prompt)\n",
    "        \n",
    "        return {\n",
    "            \"answer\": response[\"output\"] if isinstance(response, dict) else response,\n",
    "            \"context\": context['source_documents']\n",
    "        }\n",
    "    except Exception as e:\n",
    "        return {\n",
    "            \"error\": str(e),\n",
    "            \"suggestion\": \"Please try a more specific question or check if the query is related to the dataset\"\n",
    "        }\n",
    "        \n",
    "        "
   ]
  },
  {
   "cell_type": "code",
   "execution_count": 11,
   "metadata": {},
   "outputs": [],
   "source": [
    "# 10. Query Result Display Function\n",
    "def display_query_result(query_text):\n",
    "    \"\"\"\n",
    "    Function to display query results\n",
    "    Args:\n",
    "        query_text: User's query question\n",
    "    \"\"\"\n",
    "    print(\"\\n\" + \"=\"*50)\n",
    "    print(f\"📝 Query: {query_text}\")\n",
    "    print(\"=\"*50)\n",
    "    \n",
    "    result = query_data(query_text)\n",
    "    \n",
    "    if \"error\" in result:\n",
    "        print(f\"❌ Error: {result['error']}\")\n",
    "        print(f\"💡 Suggestion: {result['suggestion']}\")\n",
    "    else:\n",
    "        print(\"\\n📊 Answer:\")\n",
    "        print(\"-\"*30)\n",
    "        print(f\"{result['answer']}\")\n",
    "        print(\"\\n📚 Related Context:\")\n",
    "        print(\"-\"*30)\n",
    "        for i, doc in enumerate(result['context'], 1):\n",
    "            print(f\"{i}. {doc.page_content}\\n\")\n",
    "    print(\"=\"*50 + \"\\n\")\n",
    "\n",
    "\n",
    "\n"
   ]
  },
  {
   "cell_type": "code",
   "execution_count": 12,
   "metadata": {},
   "outputs": [
    {
     "name": "stdout",
     "output_type": "stream",
     "text": [
      "\n",
      "==================================================\n",
      "📝 Query: What is the average price?\n",
      "==================================================\n",
      "\n",
      "📊 Answer:\n",
      "------------------------------\n",
      "$194.99\n",
      "\n",
      "📚 Related Context:\n",
      "------------------------------\n",
      "1. Product Details - product_id: 7. product_name: Sneakers. category: Clothing. price: 59.99. stock_quantity: 60. rating: 4.2.\n",
      "\n",
      "2. Product Details - product_id: 7. product_name: Sneakers. category: Clothing. price: 59.99. stock_quantity: 60. rating: 4.2.\n",
      "\n",
      "3. Product Details - product_id: 7. product_name: Sneakers. category: Clothing. price: 59.99. stock_quantity: 60. rating: 4.2.\n",
      "\n",
      "==================================================\n",
      "\n"
     ]
    }
   ],
   "source": [
    "display_query_result(\"What is the average price?\")"
   ]
  },
  {
   "cell_type": "code",
   "execution_count": 16,
   "metadata": {},
   "outputs": [
    {
     "name": "stdout",
     "output_type": "stream",
     "text": [
      "\n",
      "==================================================\n",
      "📝 Query: What is the most expensive product in the dataset?\n",
      "==================================================\n",
      "\n",
      "📊 Answer:\n",
      "------------------------------\n",
      "The most expensive product in the dataset is $899.99, which is a Laptop.\n",
      "\n",
      "📚 Related Context:\n",
      "------------------------------\n",
      "1. Product Details - product_id: 6. product_name: Headphones. category: Electronics. price: 19.99. stock_quantity: 150. rating: 4.4.\n",
      "\n",
      "2. Product Details - product_id: 6. product_name: Headphones. category: Electronics. price: 19.99. stock_quantity: 150. rating: 4.4.\n",
      "\n",
      "3. Product Details - product_id: 6. product_name: Headphones. category: Electronics. price: 19.99. stock_quantity: 150. rating: 4.4.\n",
      "\n",
      "==================================================\n",
      "\n"
     ]
    }
   ],
   "source": [
    "display_query_result(\"What is the most expensive product in the dataset?\")"
   ]
  },
  {
   "cell_type": "code",
   "execution_count": 17,
   "metadata": {},
   "outputs": [
    {
     "name": "stdout",
     "output_type": "stream",
     "text": [
      "\n",
      "==================================================\n",
      "📝 Query: How many different product categories are there?\n",
      "==================================================\n",
      "\n",
      "📊 Answer:\n",
      "------------------------------\n",
      "The final answer is 3.\n",
      "\n",
      "📚 Related Context:\n",
      "------------------------------\n",
      "1. Product Details - product_id: 6. product_name: Headphones. category: Electronics. price: 19.99. stock_quantity: 150. rating: 4.4.\n",
      "\n",
      "2. Product Details - product_id: 6. product_name: Headphones. category: Electronics. price: 19.99. stock_quantity: 150. rating: 4.4.\n",
      "\n",
      "3. Product Details - product_id: 6. product_name: Headphones. category: Electronics. price: 19.99. stock_quantity: 150. rating: 4.4.\n",
      "\n",
      "==================================================\n",
      "\n",
      "\n",
      "==================================================\n",
      "📝 Query: Which product has the highest inventory?\n",
      "==================================================\n",
      "❌ Error: An output parsing error occurred. In order to pass this error back to the agent and have it try again, pass `handle_parsing_errors=True` to the AgentExecutor. This is the error: Could not parse LLM output: `It looks like we've hit a few syntax errors along the way. Let's simplify the code and make it more readable.\n",
      "\n",
      "Here's what you can do to find which products have the highest inventory:\n",
      "\n",
      "1. First, find the maximum stock quantity using `df['stock_quantity'].max()`.\n",
      "2. Then, use this value to select all rows where the stock quantity is equal to the maximum using `df.loc[df['stock_quantity'] == df['stock_quantity'].max()]`.\n",
      "3. Finally, extract the product names from these selected rows using `.iloc[:, -1]`.\n",
      "\n",
      "Here's how you can do it:\n",
      "\n",
      "```python\n",
      "max_stock = df['stock_quantity'].max()\n",
      "highest_inventory_products = df.loc[df['stock_quantity'] == max_stock]['product_name'].tolist()\n",
      "```\n",
      "\n",
      "If there are multiple products with the same highest stock quantity, this will return a list of all their product names.\n",
      "\n",
      "Note: The `.iloc[:, -1]` part selects the last column (which is `product_name`) from the selected rows. If you want to select only certain columns, replace `-1` with the corresponding column index.\n",
      "\n",
      "Let me know if this helps!`\n",
      "For troubleshooting, visit: https://python.langchain.com/docs/troubleshooting/errors/OUTPUT_PARSING_FAILURE\n",
      "💡 Suggestion: Please try a more specific question or check if the query is related to the dataset\n",
      "==================================================\n",
      "\n"
     ]
    }
   ],
   "source": [
    "# Usage Examples\n",
    "# You can perform various queries\n",
    "queries = [\n",
    "    \"How many different product categories are there?\",\n",
    "    \"Which product has the highest inventory?\"\n",
    "]\n",
    "\n",
    "for query in queries:\n",
    "    display_query_result(query)\n",
    "    time.sleep(0.5)"
   ]
  },
  {
   "cell_type": "code",
   "execution_count": 18,
   "metadata": {},
   "outputs": [
    {
     "data": {
      "text/html": [
       "<div>\n",
       "<style scoped>\n",
       "    .dataframe tbody tr th:only-of-type {\n",
       "        vertical-align: middle;\n",
       "    }\n",
       "\n",
       "    .dataframe tbody tr th {\n",
       "        vertical-align: top;\n",
       "    }\n",
       "\n",
       "    .dataframe thead th {\n",
       "        text-align: right;\n",
       "    }\n",
       "</style>\n",
       "<table border=\"1\" class=\"dataframe\">\n",
       "  <thead>\n",
       "    <tr style=\"text-align: right;\">\n",
       "      <th></th>\n",
       "      <th>product_id</th>\n",
       "      <th>product_name</th>\n",
       "      <th>category</th>\n",
       "      <th>price</th>\n",
       "      <th>stock_quantity</th>\n",
       "      <th>rating</th>\n",
       "    </tr>\n",
       "  </thead>\n",
       "  <tbody>\n",
       "    <tr>\n",
       "      <th>0</th>\n",
       "      <td>1</td>\n",
       "      <td>Smartphone</td>\n",
       "      <td>Electronics</td>\n",
       "      <td>299.99</td>\n",
       "      <td>50</td>\n",
       "      <td>4.5</td>\n",
       "    </tr>\n",
       "    <tr>\n",
       "      <th>1</th>\n",
       "      <td>2</td>\n",
       "      <td>Laptop</td>\n",
       "      <td>Electronics</td>\n",
       "      <td>899.99</td>\n",
       "      <td>30</td>\n",
       "      <td>4.7</td>\n",
       "    </tr>\n",
       "    <tr>\n",
       "      <th>2</th>\n",
       "      <td>3</td>\n",
       "      <td>Coffee Maker</td>\n",
       "      <td>Home Appliances</td>\n",
       "      <td>49.99</td>\n",
       "      <td>100</td>\n",
       "      <td>4.3</td>\n",
       "    </tr>\n",
       "    <tr>\n",
       "      <th>3</th>\n",
       "      <td>4</td>\n",
       "      <td>Blender</td>\n",
       "      <td>Home Appliances</td>\n",
       "      <td>24.99</td>\n",
       "      <td>75</td>\n",
       "      <td>4.1</td>\n",
       "    </tr>\n",
       "    <tr>\n",
       "      <th>4</th>\n",
       "      <td>5</td>\n",
       "      <td>T-Shirt</td>\n",
       "      <td>Clothing</td>\n",
       "      <td>9.99</td>\n",
       "      <td>200</td>\n",
       "      <td>4.0</td>\n",
       "    </tr>\n",
       "    <tr>\n",
       "      <th>5</th>\n",
       "      <td>6</td>\n",
       "      <td>Headphones</td>\n",
       "      <td>Electronics</td>\n",
       "      <td>19.99</td>\n",
       "      <td>150</td>\n",
       "      <td>4.4</td>\n",
       "    </tr>\n",
       "    <tr>\n",
       "      <th>6</th>\n",
       "      <td>7</td>\n",
       "      <td>Sneakers</td>\n",
       "      <td>Clothing</td>\n",
       "      <td>59.99</td>\n",
       "      <td>60</td>\n",
       "      <td>4.2</td>\n",
       "    </tr>\n",
       "  </tbody>\n",
       "</table>\n",
       "</div>"
      ],
      "text/plain": [
       "   product_id  product_name         category   price  stock_quantity  rating\n",
       "0           1    Smartphone      Electronics  299.99              50     4.5\n",
       "1           2        Laptop      Electronics  899.99              30     4.7\n",
       "2           3  Coffee Maker  Home Appliances   49.99             100     4.3\n",
       "3           4       Blender  Home Appliances   24.99              75     4.1\n",
       "4           5       T-Shirt         Clothing    9.99             200     4.0\n",
       "5           6    Headphones      Electronics   19.99             150     4.4\n",
       "6           7      Sneakers         Clothing   59.99              60     4.2"
      ]
     },
     "execution_count": 18,
     "metadata": {},
     "output_type": "execute_result"
    }
   ],
   "source": [
    "df"
   ]
  },
  {
   "cell_type": "code",
   "execution_count": 19,
   "metadata": {},
   "outputs": [
    {
     "data": {
      "text/plain": [
       "194.99"
      ]
     },
     "execution_count": 19,
     "metadata": {},
     "output_type": "execute_result"
    }
   ],
   "source": [
    "df['price'].mean()"
   ]
  },
  {
   "cell_type": "code",
   "execution_count": 20,
   "metadata": {},
   "outputs": [
    {
     "data": {
      "text/plain": [
       "899.99"
      ]
     },
     "execution_count": 20,
     "metadata": {},
     "output_type": "execute_result"
    }
   ],
   "source": [
    "df['price'].max()"
   ]
  },
  {
   "cell_type": "code",
   "execution_count": 23,
   "metadata": {},
   "outputs": [
    {
     "data": {
      "text/plain": [
       "3"
      ]
     },
     "execution_count": 23,
     "metadata": {},
     "output_type": "execute_result"
    }
   ],
   "source": [
    "\n",
    "len(df['category'].unique())"
   ]
  },
  {
   "cell_type": "code",
   "execution_count": null,
   "metadata": {},
   "outputs": [],
   "source": []
  }
 ],
 "metadata": {
  "kernelspec": {
   "display_name": "env",
   "language": "python",
   "name": "python3"
  },
  "language_info": {
   "codemirror_mode": {
    "name": "ipython",
    "version": 3
   },
   "file_extension": ".py",
   "mimetype": "text/x-python",
   "name": "python",
   "nbconvert_exporter": "python",
   "pygments_lexer": "ipython3",
   "version": "3.10.12"
  }
 },
 "nbformat": 4,
 "nbformat_minor": 2
}
