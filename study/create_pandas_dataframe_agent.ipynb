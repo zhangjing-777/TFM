{
 "cells": [
  {
   "cell_type": "markdown",
   "metadata": {},
   "source": [
    "### 1. 基本概念\n",
    "create_pandas_dataframe_agent是LangChain提供的一个工具，用于创建能够理解和操作Pandas DataFrame的AI代理。"
   ]
  },
  {
   "cell_type": "markdown",
   "metadata": {},
   "source": [
    "### 2. 主要参数\n"
   ]
  },
  {
   "cell_type": "code",
   "execution_count": null,
   "metadata": {},
   "outputs": [],
   "source": [
    "agent = create_pandas_dataframe_agent(\n",
    "    llm,                    # 语言模型\n",
    "    df,                     # DataFrame对象\n",
    "    prefix=\"\",             # 提示词前缀\n",
    "    suffix=\"\",             # 提示词后缀\n",
    "    input_variables=None,  # 输入变量列表\n",
    "    verbose=False,         # 是否显示详细日志\n",
    "    agent_type=\"zero-shot-react-description\",  # 代理类型\n",
    "    return_intermediate_steps=False,  # 是否返回中间步骤\n",
    "    max_iterations=15,     # 最大迭代次数\n",
    "    max_execution_time=None,  # 最大执行时间\n",
    "    early_stopping_method=\"force\",  # 早停方法\n",
    ")"
   ]
  },
  {
   "cell_type": "markdown",
   "metadata": {},
   "source": [
    "### 3. 使用示例\n",
    "1.基础查询\n"
   ]
  },
  {
   "cell_type": "code",
   "execution_count": null,
   "metadata": {},
   "outputs": [],
   "source": [
    "class DataAnalyzer:\n",
    "    def __init__(self, df: pd.DataFrame):\n",
    "        self.agent = create_pandas_dataframe_agent(\n",
    "            llm=Ollama(model=\"llama2\"),\n",
    "            df=df,\n",
    "            verbose=True\n",
    "        )\n",
    "    \n",
    "    def analyze(self, query: str):\n",
    "        try:\n",
    "            return self.agent.run(query)\n",
    "        except Exception as e:\n",
    "            return f\"分析出错: {str(e)}\"\n",
    "\n",
    "# 使用示例\n",
    "df = pd.DataFrame({\n",
    "    '产品': ['A', 'B', 'C'],\n",
    "    '价格': [100, 200, 300],\n",
    "    '销量': [1000, 2000, 3000]\n",
    "})\n",
    "\n",
    "analyzer = DataAnalyzer(df)\n",
    "result = analyzer.analyze(\"计算总销售额并找出最畅销的产品\")"
   ]
  },
  {
   "cell_type": "markdown",
   "metadata": {},
   "source": [
    "2.高级分析"
   ]
  },
  {
   "cell_type": "code",
   "execution_count": null,
   "metadata": {},
   "outputs": [],
   "source": [
    "class AdvancedDataAnalyzer:\n",
    "    def __init__(self, df: pd.DataFrame):\n",
    "        self.df = df\n",
    "        self.agent = create_pandas_dataframe_agent(\n",
    "            llm=Ollama(model=\"llama2\"),\n",
    "            df=df,\n",
    "            verbose=True,\n",
    "            prefix=\"你是一个数据分析专家。\",\n",
    "            suffix=\"请确保分析结果准确且易于理解。\"\n",
    "        )\n",
    "    \n",
    "    def statistical_analysis(self):\n",
    "        \"\"\"统计分析\"\"\"\n",
    "        queries = [\n",
    "            \"计算每列的基本统计信息\",\n",
    "            \"找出数据中的异常值\",\n",
    "            \"分析各列之间的相关性\"\n",
    "        ]\n",
    "        results = {}\n",
    "        for query in queries:\n",
    "            results[query] = self.agent.run(query)\n",
    "        return results\n",
    "    \n",
    "    def trend_analysis(self, time_column: str):\n",
    "        \"\"\"趋势分析\"\"\"\n",
    "        return self.agent.run(f\"分析{time_column}列的时间趋势\")\n",
    "    \n",
    "    def custom_analysis(self, query: str):\n",
    "        \"\"\"自定义分析\"\"\"\n",
    "        return self.agent.run(query)"
   ]
  },
  {
   "cell_type": "markdown",
   "metadata": {},
   "source": [
    "create_pandas_dataframe_agent是一个强大的工具，可以帮助我们构建智能的数据分析应用。通过合理使用和配置，可以实现高效、准确的数据分析功能。"
   ]
  }
 ],
 "metadata": {
  "kernelspec": {
   "display_name": "llm",
   "language": "python",
   "name": "python3"
  },
  "language_info": {
   "name": "python",
   "version": "3.10.12"
  }
 },
 "nbformat": 4,
 "nbformat_minor": 2
}
