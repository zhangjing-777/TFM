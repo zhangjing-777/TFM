{
 "cells": [
  {
   "cell_type": "markdown",
   "metadata": {
    "vscode": {
     "languageId": "plaintext"
    }
   },
   "source": [
    "### Chroma简介\n",
    "\n",
    "Chroma是一个开源的向量数据库，专门为嵌入式AI应用设计。它具有以下特点：\n",
    "\n",
    "1.轻量级\n",
    "- 纯Python实现\n",
    "- 无需额外数据库依赖\n",
    "- 可以直接嵌入到应用中\n",
    "\n",
    "2.易用性\n",
    "- API简单直观\n",
    "- 支持本地存储和内存存储\n",
    "- 与主流AI框架良好集成\n",
    "\n",
    "3.功能完整\n",
    "- 支持向量检索\n",
    "- 支持元数据过滤\n",
    "- 支持增量更新\n",
    "  \n",
    "### Chroma在RAG中的角色\n",
    "- 知识库管理\n",
    "- 上下文检索\n",
    "\n"
   ]
  },
  {
   "cell_type": "code",
   "execution_count": null,
   "metadata": {},
   "outputs": [],
   "source": [
    "\n",
    "  #示例：向量存储初始化\n",
    "vectorstore = Chroma.from_documents(\n",
    "    documents=splits,\n",
    "    embedding=embeddings,\n",
    "    persist_directory=\"./chroma_db\"\n",
    ")\n",
    "\n",
    "  # 检索相似文档\n",
    "docs = vectorstore.similarity_search(\n",
    "    query=\"手机的价格\",\n",
    "    k=3  # 返回最相似的3个文档\n",
    ")\n",
    "\n",
    "#检索器\n",
    "# 示例：基于相似度检索\n",
    "retriever = vectorstore.as_retriever(\n",
    "    search_kwargs={\n",
    "        \"k\": 3,  # 检索数量\n",
    "        \"fetch_k\": 10,  # 预筛选数量\n",
    "        \"maximal_marginal_relevance\": True  # 使用MMR算法\n",
    "    }\n",
    ")\n",
    "\n",
    "   # 检索器配置示例\n",
    "   retriever = vectorstore.as_retriever(\n",
    "       search_type=\"mmr\",        # 搜索类型\n",
    "       search_kwargs={\n",
    "           \"k\": 3,               # 返回文档数\n",
    "           \"fetch_k\": 10,        # 预筛选数量\n",
    "           \"lambda_mult\": 0.7    # 多样性权重\n",
    "       }\n",
    "   )"
   ]
  },
  {
   "cell_type": "markdown",
   "metadata": {},
   "source": [
    "### Chroma的核心功能\n",
    "1.文档管理"
   ]
  },
  {
   "cell_type": "code",
   "execution_count": null,
   "metadata": {},
   "outputs": [],
   "source": [
    "# 添加文档\n",
    "vectorstore.add_documents(new_documents)\n",
    "\n",
    "# 删除文档\n",
    "vectorstore.delete(ids=['doc1', 'doc2'])\n",
    "\n",
    "# 更新文档\n",
    "vectorstore.update_document(id='doc1', document=new_document)"
   ]
  },
  {
   "cell_type": "markdown",
   "metadata": {},
   "source": [
    "2.检索方法"
   ]
  },
  {
   "cell_type": "code",
   "execution_count": null,
   "metadata": {},
   "outputs": [],
   "source": [
    "# 相似度搜索\n",
    "results = vectorstore.similarity_search(query)\n",
    "\n",
    "# MMR搜索（最大边际相关性）\n",
    "results = vectorstore.max_marginal_relevance_search(query)\n",
    "\n",
    "# 带过滤的搜索\n",
    "results = vectorstore.similarity_search(\n",
    "    query,\n",
    "    filter={\"category\": \"手机\"}\n",
    ")"
   ]
  },
  {
   "cell_type": "markdown",
   "metadata": {},
   "source": [
    "### RAG应用中的工作流程\n",
    "1.索引阶段\n",
    "- 将文档转换为向量\n",
    "- 存储到Chroma中\n"
   ]
  },
  {
   "cell_type": "code",
   "execution_count": null,
   "metadata": {},
   "outputs": [],
   "source": [
    "# 1. 文档处理\n",
    "text_splitter = RecursiveCharacterTextSplitter(\n",
    "    chunk_size=1000,\n",
    "    chunk_overlap=200\n",
    ")\n",
    "splits = text_splitter.split_documents(documents)\n",
    "\n",
    "# 2. 向量化存储\n",
    "vectorstore = Chroma.from_documents(\n",
    "    documents=splits,\n",
    "    embedding=embeddings\n",
    ")"
   ]
  },
  {
   "cell_type": "markdown",
   "metadata": {},
   "source": [
    "2.检索阶段\n",
    "- 根据用户查询，使用相似度检索或MMR检索方法\n",
    "- 获取相关文档\n",
    "- 用于RAG系统的上下文检索\n"
   ]
  },
  {
   "cell_type": "code",
   "execution_count": null,
   "metadata": {},
   "outputs": [],
   "source": [
    "# 1. 创建检索器\n",
    "retriever = vectorstore.as_retriever()\n",
    "\n",
    "# 2. 构建QA链\n",
    "qa_chain = RetrievalQA.from_chain_type(\n",
    "    llm=llm,\n",
    "    retriever=retriever,\n",
    "    chain_type=\"stuff\"\n",
    ")"
   ]
  },
  {
   "cell_type": "markdown",
   "metadata": {},
   "source": [
    "### 使用建议\n",
    "1.性能优化"
   ]
  },
  {
   "cell_type": "code",
   "execution_count": null,
   "metadata": {},
   "outputs": [],
   "source": [
    "# 批量添加文档\n",
    "with vectorstore.batch() as batch:\n",
    "    for doc in documents:\n",
    "        batch.add_document(doc)"
   ]
  },
  {
   "cell_type": "markdown",
   "metadata": {},
   "source": [
    "2.持久化管理"
   ]
  },
  {
   "cell_type": "code",
   "execution_count": null,
   "metadata": {},
   "outputs": [],
   "source": [
    "# 保存向量库\n",
    "vectorstore.persist()\n",
    "\n",
    "# 加载现有向量库\n",
    "vectorstore = Chroma(\n",
    "    persist_directory=\"./chroma_db\",\n",
    "    embedding_function=embeddings\n",
    ")"
   ]
  },
  {
   "cell_type": "markdown",
   "metadata": {},
   "source": [
    "3.查询优化"
   ]
  },
  {
   "cell_type": "code",
   "execution_count": null,
   "metadata": {},
   "outputs": [],
   "source": [
    "# 使用MMR减少冗余\n",
    "docs = vectorstore.max_marginal_relevance_search(\n",
    "    query,\n",
    "    k=3,\n",
    "    fetch_k=10,\n",
    "    lambda_mult=0.5\n",
    ")"
   ]
  },
  {
   "cell_type": "markdown",
   "metadata": {},
   "source": [
    "### 应用场景示例\n",
    "1.智能客服\n",
    "- 存储FAQ文档\n",
    "- 实时检索相关答案\n",
    "- 支持上下文理解\n",
    "2.产品推荐\n",
    "- 存储产品描述\n",
    "- 基于语义相似度推荐\n",
    "- 支持个性化匹配\n",
    "3.知识库检索\n",
    "- 存储技术文档\n",
    "- 支持精确检索\n",
    "- 维护文档更新\n",
    "\n",
    "Chroma在RAG技术中扮演着\"智能记忆库\"的角色，它不仅存储信息，还能理解信息的语义，为AI提供准确的上下文支持。"
   ]
  },
  {
   "cell_type": "markdown",
   "metadata": {},
   "source": [
    "### 向量存储的原理\n",
    "1.文本向量化\n",
    "- 使用嵌入模型将文本转换为高维向量\n",
    "- 例如：将\"苹果手机\"转换为[0.1, 0.3, 0.5, ...]这样的数值向量\n",
    "- 语义相近的文本会转换为相似的向量\n",
    "  \n",
    "2.向量索引\n",
    "- 使用特殊的数据结构（如KNN、HNSW）建立索引\n",
    "- 加快相似向量的检索速度\n",
    "- 支持高效的最近邻搜索\n",
    "  \n",
    "3.持久化存储\n",
    "- 将向量数据保存到本地磁盘\n",
    "- 避免重复计算嵌入向量\n",
    "- 支持增量更新\n",
    "\n",
    "### 使用场景\n",
    "1.语义搜索\n",
    "- 根据用户查询找到语义相关的产品\n",
    "- 例如：\"找一个性价比高的手机\" → 匹配相关产品描述\n",
    "  \n",
    "2.问答系统\n",
    "- 基于产品信息回答具体问题\n",
    "- 例如：\"这个手机的电池容量是多少？\"\n",
    "  \n",
    "3.推荐系统\n",
    "- 找到相似产品进行推荐\n",
    "- 基于产品描述的语义相似度\n",
    "  \n",
    "4.数据去重\n",
    "- 发现重复或相似的产品描述\n",
    "-   维护数据质量\n",
    "\n",
    "### 优势\n",
    "1.语义理解\n",
    "- 不局限于关键词匹配\n",
    "- 理解同义词和上下文\n",
    "  \n",
    "2.可扩展性\n",
    "- 支持大规模数据\n",
    "- 高效的检索性能\n",
    "  \n",
    "3.灵活性\n",
    "- 可以动态更新数据\n",
    "- 支持多种查询方式\n",
    "  \n",
    "4.持久化\n",
    "- 数据可重用\n",
    "- 减少计算开销\n",
    "\n",
    "这种向量存储技术在现代AI应用中非常重要，是实现智能检索和问答系统的基础设施。"
   ]
  },
  {
   "cell_type": "markdown",
   "metadata": {},
   "source": []
  }
 ],
 "metadata": {
  "kernelspec": {
   "display_name": "llm",
   "language": "python",
   "name": "python3"
  },
  "language_info": {
   "codemirror_mode": {
    "name": "ipython",
    "version": 3
   },
   "file_extension": ".py",
   "mimetype": "text/x-python",
   "name": "python",
   "nbconvert_exporter": "python",
   "pygments_lexer": "ipython3",
   "version": "3.10.12"
  }
 },
 "nbformat": 4,
 "nbformat_minor": 2
}
