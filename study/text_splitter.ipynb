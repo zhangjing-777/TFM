{
 "cells": [
  {
   "cell_type": "markdown",
   "metadata": {},
   "source": [
    "### 详细解释 RecursiveCharacterTextSplitter 的作用"
   ]
  },
  {
   "cell_type": "markdown",
   "metadata": {},
   "source": [
    "#### 1. 基本功能\n",
    "\n",
    "RecursiveCharacterTextSplitter 是一个文本分割工具，主要用于将长文本分割成更小的片段（chunks），这对于处理大型文档非常重要。"
   ]
  },
  {
   "cell_type": "markdown",
   "metadata": {},
   "source": [
    "#### 2. 工作原理"
   ]
  },
  {
   "cell_type": "code",
   "execution_count": null,
   "metadata": {},
   "outputs": [],
   "source": [
    "text_splitter = RecursiveCharacterTextSplitter(\n",
    "    chunk_size=1000,        # 每个文本块的最大字符数\n",
    "    chunk_overlap=200,      # 相邻文本块之间的重叠字符数\n",
    "    length_function=len,    # 计算文本长度的函数\n",
    "    separators=[\"\\n\\n\", \"\\n\", \" \", \"\"]  # 分割文本的分隔符\n",
    ")\n",
    "\n",
    "# 使用示例\n",
    "texts = text_splitter.split_text(long_document)"
   ]
  },
  {
   "cell_type": "markdown",
   "metadata": {},
   "source": [
    "#### 3. 为什么需要它？\n",
    "\n",
    "1.处理长文本的限制\n",
    "- LLM模型通常有输入长度限制（token限制）\n",
    "- 大文档需要被分割成合适大小才能处理\n",
    "  \n",
    "2.提高检索质量\n",
    "- 较小的文本块更容易进行相似度匹配\n",
    "- 更精确地定位相关信息\n",
    "  \n",
    "3.保持语义完整性\n",
    "- 递归分割确保在语义边界处分割\n",
    "- 重叠部分帮助保持上下文连贯性"
   ]
  },
  {
   "cell_type": "markdown",
   "metadata": {},
   "source": [
    "#### 4. 特点"
   ]
  },
  {
   "cell_type": "markdown",
   "metadata": {},
   "source": [
    "1.递归分割策略"
   ]
  },
  {
   "cell_type": "code",
   "execution_count": null,
   "metadata": {},
   "outputs": [],
   "source": [
    "# 分割过程示例\n",
    "text_splitter.split_text(\"\"\"\n",
    "第一段落内容...\n",
    "\n",
    "第二段落内容...\n",
    "\n",
    "第三段落内容...\n",
    "\"\"\")"
   ]
  },
  {
   "cell_type": "markdown",
   "metadata": {},
   "source": [
    "- 首先尝试在段落边界（\\n\\n）分割\n",
    "- 如果chunk仍然太大，尝试在句子边界（\\n）\n",
    "- 继续尝试在单词边界（空格）\n",
    "- 最后在字符级别分割"
   ]
  },
  {
   "cell_type": "markdown",
   "metadata": {},
   "source": [
    "2.重叠机制"
   ]
  },
  {
   "cell_type": "code",
   "execution_count": null,
   "metadata": {},
   "outputs": [],
   "source": [
    "# 重叠示例\n",
    "chunk1 = \"...结尾部分 重叠内容\"\n",
    "chunk2 = \"重叠内容 开始部分...\""
   ]
  },
  {
   "cell_type": "markdown",
   "metadata": {},
   "source": [
    "- 确保上下文连续性\n",
    "- 避免关键信息在分割处丢失\n"
   ]
  },
  {
   "cell_type": "markdown",
   "metadata": {},
   "source": [
    "#### 5. 实际应用场景"
   ]
  },
  {
   "cell_type": "markdown",
   "metadata": {},
   "source": [
    "1.文档问答系统"
   ]
  },
  {
   "cell_type": "code",
   "execution_count": null,
   "metadata": {},
   "outputs": [],
   "source": [
    "# RAG系统中的应用\n",
    "documents = loader.load()\n",
    "texts = text_splitter.split_documents(documents)\n",
    "vectorstore = Chroma.from_documents(texts, embedding)"
   ]
  },
  {
   "cell_type": "markdown",
   "metadata": {},
   "source": [
    "2.长文本摘要"
   ]
  },
  {
   "cell_type": "code",
   "execution_count": null,
   "metadata": {},
   "outputs": [],
   "source": [
    "# 分块处理长文本\n",
    "chunks = text_splitter.split_text(long_text)\n",
    "summaries = []\n",
    "for chunk in chunks:\n",
    "    summary = llm.summarize(chunk)\n",
    "    summaries.append(summary)"
   ]
  },
  {
   "cell_type": "markdown",
   "metadata": {},
   "source": [
    "3.知识库建设\n",
    "- 将长文档分割成小块，用于构建知识库\n",
    "- 每个块可以独立索引和检索\n",
    "- 提高检索效率和准确性\n",
    "\n"
   ]
  },
  {
   "cell_type": "code",
   "execution_count": null,
   "metadata": {},
   "outputs": [],
   "source": [
    "# 构建知识库\n",
    "for doc in documents:\n",
    "    chunks = text_splitter.split_text(doc)\n",
    "    for chunk in chunks:\n",
    "        vectorstore.add_texts([chunk])"
   ]
  },
  {
   "cell_type": "markdown",
   "metadata": {},
   "source": [
    "#### 6. 优化建议\n",
    "- 调整chunk_size和chunk_overlap以平衡精度和效率\n",
    "- 考虑使用更复杂的分段策略（如语义分割）\n",
    "- 在实际应用中测试和调整参数\n"
   ]
  },
  {
   "cell_type": "markdown",
   "metadata": {},
   "source": [
    "1.调整参数\n",
    "- chunk_size：每个chunk的大小，直接影响分割粒度\n",
    "- chunk_overlap：相邻chunk之间的重叠字符数，影响上下文连贯性\n",
    "- separators：定义分割的分隔符，影响分割的精细程度\n"
   ]
  },
  {
   "cell_type": "code",
   "execution_count": null,
   "metadata": {},
   "outputs": [],
   "source": [
    "text_splitter = RecursiveCharacterTextSplitter(\n",
    "    chunk_size=500,      # 更小的块适合精确匹配\n",
    "    chunk_overlap=50,    # 较小的重叠减少冗余\n",
    "    separators=[\"\\n\\n\", \"\\n\", \"。\", \"，\", \" \", \"\"]  # 添加中文分隔符\n",
    ")"
   ]
  },
  {
   "cell_type": "markdown",
   "metadata": {},
   "source": [
    "2.根据文档类型选择分隔符\n",
    "- 技术文档：可能需要保持代码块完整\n",
    "- 普通文本：可以在句子边界分割\n",
    "- 结构化文档：可以按照文档结构分割\n",
    "\n",
    "这个工具在构建RAG（检索增强生成）系统中扮演着关键角色，能够有效地将大型文档转换为可管理和可检索的小块文本\n"
   ]
  }
 ],
 "metadata": {
  "kernelspec": {
   "display_name": "llm",
   "language": "python",
   "name": "python3"
  },
  "language_info": {
   "codemirror_mode": {
    "name": "ipython",
    "version": 3
   },
   "file_extension": ".py",
   "mimetype": "text/x-python",
   "name": "python",
   "nbconvert_exporter": "python",
   "pygments_lexer": "ipython3",
   "version": "3.10.12"
  }
 },
 "nbformat": 4,
 "nbformat_minor": 2
}
