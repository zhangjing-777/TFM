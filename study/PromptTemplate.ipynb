{
 "cells": [
  {
   "cell_type": "markdown",
   "metadata": {},
   "source": [
    "### 1. 基本概念\n",
    "1. 定义\n",
    "- LangChain中的提示词模板工具\n",
    "- 用于构建结构化和可重用的提示词\n",
    "- 支持变量插值和格式化\n",
    "2. 基本用法\n"
   ]
  },
  {
   "cell_type": "code",
   "execution_count": 1,
   "metadata": {},
   "outputs": [
    {
     "name": "stdout",
     "output_type": "stream",
     "text": [
      "请介绍这个iPhone 15，它的价格是6999元。\n"
     ]
    }
   ],
   "source": [
    "from langchain.prompts import PromptTemplate\n",
    "\n",
    "# 基础模板创建\n",
    "template = PromptTemplate(\n",
    "    input_variables=[\"product\", \"price\"],\n",
    "    template=\"请介绍这个{product}，它的价格是{price}元。\"\n",
    ")\n",
    "\n",
    "# 生成提示词\n",
    "prompt = template.format(\n",
    "    product=\"iPhone 15\",\n",
    "    price=\"6999\"\n",
    ")\n",
    "\n",
    "print(prompt)"
   ]
  },
  {
   "cell_type": "markdown",
   "metadata": {},
   "source": [
    "### 2. 高级特性\n",
    "1. 多变量模板\n"
   ]
  },
  {
   "cell_type": "code",
   "execution_count": 2,
   "metadata": {},
   "outputs": [],
   "source": [
    "# 复杂模板示例\n",
    "template = PromptTemplate(\n",
    "    input_variables=[\"context\", \"question\"],\n",
    "    template=\"\"\"\n",
    "    基于以下信息回答问题：\n",
    "    \n",
    "    背景信息：{context}\n",
    "    \n",
    "    问题：{question}\n",
    "    \n",
    "    请详细回答：\n",
    "    \"\"\"\n",
    ")"
   ]
  },
  {
   "cell_type": "markdown",
   "metadata": {},
   "source": [
    "2. 部分变量填充\n"
   ]
  },
  {
   "cell_type": "code",
   "execution_count": 3,
   "metadata": {},
   "outputs": [
    {
     "name": "stdout",
     "output_type": "stream",
     "text": [
      "产品：MacBook Pro\n",
      "特点：M2芯片\n",
      "价格：9999元\n"
     ]
    }
   ],
   "source": [
    "# 分步填充模板\n",
    "template = PromptTemplate(\n",
    "    input_variables=[\"product\", \"feature\", \"price\"],\n",
    "    template=\"产品：{product}\\n特点：{feature}\\n价格：{price}元\"\n",
    ")\n",
    "\n",
    "# 先填充部分变量\n",
    "partial_prompt = template.partial(product=\"MacBook Pro\")\n",
    "# 后续填充其他变量\n",
    "final_prompt = partial_prompt.format(\n",
    "    feature=\"M2芯片\",\n",
    "    price=\"9999\"\n",
    ")\n",
    "\n",
    "print(final_prompt)"
   ]
  },
  {
   "cell_type": "markdown",
   "metadata": {},
   "source": [
    "可以网上查询一些模版格式"
   ]
  },
  {
   "cell_type": "markdown",
   "metadata": {},
   "source": [
    "### 3. 实际应用示例\n",
    "1.客服对话系统"
   ]
  },
  {
   "cell_type": "code",
   "execution_count": 4,
   "metadata": {},
   "outputs": [],
   "source": [
    "class CustomerService:\n",
    "    def __init__(self):\n",
    "        self.greeting_template = PromptTemplate(\n",
    "            template=\"您好，{customer_name}！我是客服助手。有什么可以帮您的吗？\",\n",
    "            input_variables=[\"customer_name\"]\n",
    "        )\n",
    "        \n",
    "        self.response_template = PromptTemplate(\n",
    "            template=\"\"\"\n",
    "            基于以下客户信息和问题提供专业的回答：\n",
    "            \n",
    "            客户信息：\n",
    "            - 姓名：{customer_name}\n",
    "            - 会员等级：{vip_level}\n",
    "            - 历史购买：{purchase_history}\n",
    "            \n",
    "            客户问题：{question}\n",
    "            \n",
    "            请提供专业、友善的回答：\n",
    "            \"\"\",\n",
    "            input_variables=[\"customer_name\", \"vip_level\", \"purchase_history\", \"question\"]\n",
    "        )"
   ]
  },
  {
   "cell_type": "markdown",
   "metadata": {},
   "source": [
    "2. 产品描述生成器\n"
   ]
  },
  {
   "cell_type": "code",
   "execution_count": 5,
   "metadata": {},
   "outputs": [],
   "source": [
    "class ProductDescriptionGenerator:\n",
    "    def __init__(self):\n",
    "        self.template = PromptTemplate(\n",
    "            template=\"\"\"\n",
    "            请为以下产品生成一段营销描述：\n",
    "            \n",
    "            产品名称：{name}\n",
    "            类别：{category}\n",
    "            价格：{price}\n",
    "            主要特点：\n",
    "            {features}\n",
    "            \n",
    "            要求：\n",
    "            1. 突出产品优势\n",
    "            2. 使用吸引人的语言\n",
    "            3. 包含具体数据和特点\n",
    "            4. 字数在{word_count}字以内\n",
    "            \n",
    "            营销描述：\n",
    "            \"\"\",\n",
    "            input_variables=[\"name\", \"category\", \"price\", \"features\", \"word_count\"]\n",
    "        )"
   ]
  },
  {
   "cell_type": "markdown",
   "metadata": {},
   "source": [
    "### 4. 最佳实践\n",
    "1. 模板管理\n"
   ]
  },
  {
   "cell_type": "code",
   "execution_count": 6,
   "metadata": {},
   "outputs": [],
   "source": [
    "class PromptManager:\n",
    "    def __init__(self):\n",
    "        self.templates = {}\n",
    "        \n",
    "    def add_template(self, name, template, variables):\n",
    "        self.templates[name] = PromptTemplate(\n",
    "            template=template,\n",
    "            input_variables=variables\n",
    "        )\n",
    "        \n",
    "    def get_prompt(self, name, **kwargs):\n",
    "        if name not in self.templates:\n",
    "            raise KeyError(f\"Template {name} not found\")\n",
    "        return self.templates[name].format(**kwargs)"
   ]
  },
  {
   "cell_type": "markdown",
   "metadata": {},
   "source": [
    "2.错误处理"
   ]
  },
  {
   "cell_type": "code",
   "execution_count": 7,
   "metadata": {},
   "outputs": [],
   "source": [
    "def safe_format_prompt(template, **kwargs):\n",
    "    try:\n",
    "        return template.format(**kwargs)\n",
    "    except KeyError as e:\n",
    "        missing_var = str(e).strip(\"'\")\n",
    "        raise ValueError(f\"Missing required variable: {missing_var}\")\n",
    "    except Exception as e:\n",
    "        raise ValueError(f\"Error formatting prompt: {str(e)}\")"
   ]
  },
  {
   "cell_type": "markdown",
   "metadata": {},
   "source": [
    "3.模板验证"
   ]
  },
  {
   "cell_type": "code",
   "execution_count": 8,
   "metadata": {},
   "outputs": [],
   "source": [
    "def validate_template(template_str, required_vars):\n",
    "    \"\"\"验证模板是否包含所有必需变量\"\"\"\n",
    "    import re\n",
    "    \n",
    "    # 提取模板中的变量\n",
    "    variables = set(re.findall(r'\\{(\\w+)\\}', template_str))\n",
    "    \n",
    "    # 检查必需变量\n",
    "    missing = set(required_vars) - variables\n",
    "    if missing:\n",
    "        raise ValueError(f\"Missing required variables in template: {missing}\")\n",
    "        \n",
    "    return True"
   ]
  },
  {
   "cell_type": "markdown",
   "metadata": {},
   "source": [
    "PromptTemplate是构建高质量AI应用的重要工具，它能帮助我们：\n",
    "- 标准化提示词格式\n",
    "- 提高提示词的可重用性\n",
    "- 简化变量管理\n",
    "- 提高代码可维护性\n",
    "  \n",
    "通过合理使用PromptTemplate，我们可以构建更加健壮和灵活的AI应用。"
   ]
  }
 ],
 "metadata": {
  "kernelspec": {
   "display_name": "llm",
   "language": "python",
   "name": "python3"
  },
  "language_info": {
   "codemirror_mode": {
    "name": "ipython",
    "version": 3
   },
   "file_extension": ".py",
   "mimetype": "text/x-python",
   "name": "python",
   "nbconvert_exporter": "python",
   "pygments_lexer": "ipython3",
   "version": "3.10.12"
  }
 },
 "nbformat": 4,
 "nbformat_minor": 2
}
