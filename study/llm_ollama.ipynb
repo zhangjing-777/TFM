{
 "cells": [
  {
   "cell_type": "markdown",
   "metadata": {},
   "source": [
    "1.导入必要的库"
   ]
  },
  {
   "cell_type": "code",
   "execution_count": 1,
   "metadata": {},
   "outputs": [],
   "source": [
    "# 用于数据处理和分析的库\n",
    "import pandas as pd  \n",
    "# Ollama 语言模型接口\n",
    "from langchain_community.llms import Ollama  \n",
    "# 用于创建能处理 DataFrame 的智能代理\n",
    "from langchain_experimental.agents import create_pandas_dataframe_agent  "
   ]
  },
  {
   "cell_type": "markdown",
   "metadata": {},
   "source": [
    "2.初始化 Ollama 模型"
   ]
  },
  {
   "cell_type": "code",
   "execution_count": null,
   "metadata": {},
   "outputs": [],
   "source": [
    "llm = Ollama(\n",
    "    model=\"llama3.1\",  # 使用 llama3.1 模型\n",
    "    temperature=0.75,  # 控制输出的随机性，0-1之间，越高越随机，越低越确定\n",
    ")\n",
    "# 这里选择 llama3.1 是因为它是一个强大的开源语言模型\n",
    "# temperature 设置为 0.75 是为了在保持回答准确性的同时保留一定的创造性\n"
   ]
  },
  {
   "cell_type": "markdown",
   "metadata": {},
   "source": [
    "3.读取数据"
   ]
  },
  {
   "cell_type": "code",
   "execution_count": 3,
   "metadata": {},
   "outputs": [],
   "source": [
    "df = pd.read_csv(\"product_data.csv\")\n",
    "# 读取 CSV 文件\n",
    "# 这个文件包含产品数据，包括产品名称、价格、库存等信息"
   ]
  },
  {
   "cell_type": "markdown",
   "metadata": {},
   "source": [
    "4.创建智能代理"
   ]
  },
  {
   "cell_type": "code",
   "execution_count": 4,
   "metadata": {},
   "outputs": [],
   "source": [
    "agent = create_pandas_dataframe_agent(\n",
    "    llm,  # 使用之前初始化的语言模型\n",
    "    df,   # 传入数据框\n",
    "    verbose=True,  # 显示详细的执行过程\n",
    "    allow_dangerous_code=True  # 允许执行 Python 代码\n",
    ")\n",
    "\n",
    "# 这是最核心的部分：\n",
    "# agent 将 LLM 和 DataFrame 结合起来\n",
    "# 它能够：\n",
    "# 理解自然语言查询\n",
    "# 将查询转换为 Python 代码\n",
    "# 在 DataFrame 上执行操作\n",
    "# 返回人类可读的结果\n"
   ]
  },
  {
   "cell_type": "markdown",
   "metadata": {},
   "source": [
    "5.执行查询"
   ]
  },
  {
   "cell_type": "code",
   "execution_count": null,
   "metadata": {},
   "outputs": [],
   "source": [
    "query = \"tell me the price of Apple\"\n",
    "response = agent.run(query)\n",
    "print(response)\n",
    "\n",
    "# 查询过程：\n",
    "# 1. agent 接收自然语言查询\n",
    "# 2. 使用 LLM 理解查询意图\n",
    "# 3. 生成相应的 pandas 操作代码\n",
    "# 4. 在 DataFrame 上执行代码\n",
    "# 5. 将结果转换为自然语言回答"
   ]
  },
  {
   "cell_type": "markdown",
   "metadata": {},
   "source": [
    "graph LR\n",
    "    \n",
    "    A[自然语言查询] --> B[LLM解析]\n",
    "\n",
    "    B --> C[生成代码]\n",
    "\n",
    "    C --> D[DataFrame操作]\n",
    "\n",
    "    D --> E[结果解释]\n",
    "    \n",
    "    E --> F[自然语言回答]\n",
    "\n",
    "这种设计的优点：\n",
    "1. 用户友好：可以用自然语言查询数据\n",
    "2. 灵活性强：能处理各种复杂查询\n",
    "3. 可解释性：verbose 模式显示执行过程\n",
    "4. 安全性：可以控制代码执行权限"
   ]
  }
 ],
 "metadata": {
  "kernelspec": {
   "display_name": "llm",
   "language": "python",
   "name": "python3"
  },
  "language_info": {
   "codemirror_mode": {
    "name": "ipython",
    "version": 3
   },
   "file_extension": ".py",
   "mimetype": "text/x-python",
   "name": "python",
   "nbconvert_exporter": "python",
   "pygments_lexer": "ipython3",
   "version": "3.10.12"
  }
 },
 "nbformat": 4,
 "nbformat_minor": 2
}
